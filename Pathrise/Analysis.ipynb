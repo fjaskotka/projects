{
 "metadata": {
  "language_info": {
   "codemirror_mode": {
    "name": "ipython",
    "version": 3
   },
   "file_extension": ".py",
   "mimetype": "text/x-python",
   "name": "python",
   "nbconvert_exporter": "python",
   "pygments_lexer": "ipython3",
   "version": "3.7.10"
  },
  "orig_nbformat": 2,
  "kernelspec": {
   "name": "python3710jvsc74a57bd04cd7ab41f5fca4b9b44701077e38c5ffd31fe66a6cab21e0214b68d958d0e462",
   "display_name": "Python 3.7.10 64-bit"
  },
  "metadata": {
   "interpreter": {
    "hash": "4cd7ab41f5fca4b9b44701077e38c5ffd31fe66a6cab21e0214b68d958d0e462"
   }
  }
 },
 "nbformat": 4,
 "nbformat_minor": 2,
 "cells": [
  {
   "cell_type": "code",
   "execution_count": 1,
   "metadata": {},
   "outputs": [],
   "source": [
    "from pyspark.sql import SparkSession\n",
    "from pyspark.sql import functions as f"
   ]
  },
  {
   "source": [
    "### Setting up the Spark Session"
   ],
   "cell_type": "markdown",
   "metadata": {}
  },
  {
   "cell_type": "code",
   "execution_count": 3,
   "metadata": {},
   "outputs": [],
   "source": [
    "spark = SparkSession.builder.getOrCreate()"
   ]
  },
  {
   "cell_type": "code",
   "execution_count": 13,
   "metadata": {},
   "outputs": [],
   "source": [
    "# reading in the data\n",
    "df = spark.read.format(\"csv\").load(\"Data_Pathrise.csv\", header = True)"
   ]
  },
  {
   "source": [
    "# Data Exploration"
   ],
   "cell_type": "markdown",
   "metadata": {}
  },
  {
   "cell_type": "code",
   "execution_count": 15,
   "metadata": {},
   "outputs": [
    {
     "output_type": "stream",
     "name": "stdout",
     "text": [
      "+---+---------------+-------------+----------+---------------------+------+------------------+--------------------------+--------------------+---------------------------+-----------------------+-------------------------+--------------------+----------------------+------+--------------------+\n| id|pathrise_status|primary_track|cohort_tag|program_duration_days|placed|employment_status |highest_level_of_education|length_of_job_search|biggest_challenge_in_search|professional_experience|work_authorization_status|number_of_interviews|number_of_applications|gender|                race|\n+---+---------------+-------------+----------+---------------------+------+------------------+--------------------------+--------------------+---------------------------+-----------------------+-------------------------+--------------------+----------------------+------+--------------------+\n|  1|         Active|          SWE|    OCT19A|                 null|     0|        Unemployed|         Bachelor's Degree|          3-5 months|       Hearing back on m...|              3-4 years|           Canada Citizen|                   2|                   900|  Male|Non-Hispanic Whit...|\n|  2|         Active|          PSO|    JAN20A|                 null|     0|        Unemployed|      Some College, No ...|          3-5 months|       Getting past fina...|              1-2 years|                  Citizen|                   6|                     0|  Male|Non-Hispanic Whit...|\n|  3|    Closed Lost|       Design|    AUG19B|                    0|     0|Employed Part-Time|           Master's Degree| Less than one month|       Figuring out whic...|     Less than one year|                  Citizen|                   0|                     0|  Male|East Asian or Asi...|\n|  4|    Closed Lost|          PSO|    AUG19B|                    0|     0|        Contractor|         Bachelor's Degree| Less than one month|       Getting past fina...|     Less than one year|                  Citizen|                   5|                    25|  Male|Decline to Self I...|\n|  5|         Placed|          SWE|    AUG19A|                   89|     1|        Unemployed|         Bachelor's Degree|          1-2 months|       Hearing back on m...|              1-2 years|              F1 Visa/OPT|                  10|                   100|  Male|East Asian or Asi...|\n+---+---------------+-------------+----------+---------------------+------+------------------+--------------------------+--------------------+---------------------------+-----------------------+-------------------------+--------------------+----------------------+------+--------------------+\nonly showing top 5 rows\n\n"
     ]
    }
   ],
   "source": [
    "df.show(5)"
   ]
  },
  {
   "cell_type": "code",
   "execution_count": 17,
   "metadata": {},
   "outputs": [],
   "source": [
    "df_pd = df.sample(0.2).toPandas()"
   ]
  },
  {
   "cell_type": "code",
   "execution_count": 21,
   "metadata": {},
   "outputs": [],
   "source": [
    "#importing necessary packages\n",
    "import pandas as pd\n",
    "import numpy as numpy\n",
    "import matplotlib.pyplot as plt\n",
    "import seaborn as sns"
   ]
  },
  {
   "cell_type": "code",
   "execution_count": null,
   "metadata": {},
   "outputs": [],
   "source": []
  }
 ]
}