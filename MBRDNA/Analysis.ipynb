{
 "metadata": {
  "language_info": {
   "codemirror_mode": {
    "name": "ipython",
    "version": 3
   },
   "file_extension": ".py",
   "mimetype": "text/x-python",
   "name": "python",
   "nbconvert_exporter": "python",
   "pygments_lexer": "ipython3",
   "version": "3.7.10"
  },
  "orig_nbformat": 4,
  "kernelspec": {
   "name": "python3",
   "display_name": "Python 3.7.10 64-bit"
  },
  "interpreter": {
   "hash": "4cd7ab41f5fca4b9b44701077e38c5ffd31fe66a6cab21e0214b68d958d0e462"
  }
 },
 "nbformat": 4,
 "nbformat_minor": 2,
 "cells": [
  {
   "source": [
    "# Analysis of Events per Drive and Feature Engineering in Pandas\n",
    "This project aims to turn the signals gathered from the vehicle into features and prepare the data for analysis. Finally, ML models shall be build and insights generated."
   ],
   "cell_type": "markdown",
   "metadata": {}
  },
  {
   "source": [
    "## Importing Data"
   ],
   "cell_type": "markdown",
   "metadata": {}
  },
  {
   "cell_type": "code",
   "execution_count": 1,
   "metadata": {},
   "outputs": [],
   "source": [
    "#importing necessary packages\n",
    "import numpy as np\n",
    "import pandas as pd\n",
    "import matplotlib.pyplot as plt\n",
    "import seaborn as sns"
   ]
  },
  {
   "cell_type": "code",
   "execution_count": 122,
   "metadata": {},
   "outputs": [
    {
     "output_type": "execute_result",
     "data": {
      "text/plain": [
       "                 VIN  Navigation active  Seat Heating on  Audio muted\n",
       "0  5J8TB4H38Fl002262                  1                1            0\n",
       "1  5J8TB4H38Fl002262                  1                0            0\n",
       "2  5J8TB4H38Fl002262                  1                0            1\n",
       "3  5J8TB4H38Fl002262                  1                0            0\n",
       "4  5J8TB4H38Fl002262                  0                1            1"
      ],
      "text/html": "<div>\n<style scoped>\n    .dataframe tbody tr th:only-of-type {\n        vertical-align: middle;\n    }\n\n    .dataframe tbody tr th {\n        vertical-align: top;\n    }\n\n    .dataframe thead th {\n        text-align: right;\n    }\n</style>\n<table border=\"1\" class=\"dataframe\">\n  <thead>\n    <tr style=\"text-align: right;\">\n      <th></th>\n      <th>VIN</th>\n      <th>Navigation active</th>\n      <th>Seat Heating on</th>\n      <th>Audio muted</th>\n    </tr>\n  </thead>\n  <tbody>\n    <tr>\n      <th>0</th>\n      <td>5J8TB4H38Fl002262</td>\n      <td>1</td>\n      <td>1</td>\n      <td>0</td>\n    </tr>\n    <tr>\n      <th>1</th>\n      <td>5J8TB4H38Fl002262</td>\n      <td>1</td>\n      <td>0</td>\n      <td>0</td>\n    </tr>\n    <tr>\n      <th>2</th>\n      <td>5J8TB4H38Fl002262</td>\n      <td>1</td>\n      <td>0</td>\n      <td>1</td>\n    </tr>\n    <tr>\n      <th>3</th>\n      <td>5J8TB4H38Fl002262</td>\n      <td>1</td>\n      <td>0</td>\n      <td>0</td>\n    </tr>\n    <tr>\n      <th>4</th>\n      <td>5J8TB4H38Fl002262</td>\n      <td>0</td>\n      <td>1</td>\n      <td>1</td>\n    </tr>\n  </tbody>\n</table>\n</div>"
     },
     "metadata": {},
     "execution_count": 122
    }
   ],
   "source": [
    "#importing dataframe\n",
    "df = pd.read_csv('Events_per_drive.csv')\n",
    "df.head()\n",
    "\n"
   ]
  },
  {
   "cell_type": "code",
   "execution_count": 22,
   "metadata": {},
   "outputs": [
    {
     "output_type": "execute_result",
     "data": {
      "text/plain": [
       "False"
      ]
     },
     "metadata": {},
     "execution_count": 22
    }
   ],
   "source": [
    "df.isnull().any().any()"
   ]
  },
  {
   "source": [
    "## Aggregating the data"
   ],
   "cell_type": "markdown",
   "metadata": {}
  },
  {
   "cell_type": "code",
   "execution_count": 117,
   "metadata": {},
   "outputs": [],
   "source": [
    "#defining function to sum up values of the features in a dataframe grouped by a column and return an aggregated dataframe\n",
    "def aggregate_sum(dataframe, column_name):\n",
    "    df = dataframe.groupby([column_name]).sum()\n",
    "\n",
    "    return df\n",
    "\n",
    "\n",
    "#defining function to calculate ratios of values in features in a df by column -- I BUILD THIS MYSELF HAHA, TOOK 1 HOUR\n",
    "def aggregate_ratio(dataframe, column_name):\n",
    "\n",
    "    #creating placeholder list\n",
    "    placeholder_lst = []\n",
    "\n",
    "    #looping over unique values of the selected column\n",
    "    for item in dataframe[column_name].unique():\n",
    "\n",
    "        #filtering for unique value in df and storing in new df\n",
    "        df = dataframe.loc[:,:][dataframe.loc[:, column_name] == item]\n",
    "\n",
    "        placeholder_lst2 = []\n",
    "\n",
    "        #looping over columns\n",
    "        for column in df.columns:\n",
    "\n",
    "\n",
    "            if column == column_name:\n",
    "                placeholder_lst2.append(item)\n",
    "\n",
    "            else:\n",
    "\n",
    "                #calculating ratio for values that are higher than 0\n",
    "                numerator = (df[column] > 0).value_counts()[1]\n",
    "                denominator = df[column].count()\n",
    "                ratio = round((numerator / denominator), 2)\n",
    "                placeholder_lst2.append(ratio)\n",
    "\n",
    "        placeholder_lst.append(placeholder_lst2)\n",
    "\n",
    "    data_final = pd.DataFrame(placeholder_lst, columns = df.columns)\n",
    "\n",
    "    return data_final\n",
    "\n",
    "\n",
    "\n"
   ]
  },
  {
   "cell_type": "code",
   "execution_count": 118,
   "metadata": {},
   "outputs": [
    {
     "output_type": "execute_result",
     "data": {
      "text/plain": [
       "                 VIN  Navigation active  Seat Heating on  Audio muted\n",
       "0  5J8TB4H38Fl002262                0.6             0.53          0.6"
      ],
      "text/html": "<div>\n<style scoped>\n    .dataframe tbody tr th:only-of-type {\n        vertical-align: middle;\n    }\n\n    .dataframe tbody tr th {\n        vertical-align: top;\n    }\n\n    .dataframe thead th {\n        text-align: right;\n    }\n</style>\n<table border=\"1\" class=\"dataframe\">\n  <thead>\n    <tr style=\"text-align: right;\">\n      <th></th>\n      <th>VIN</th>\n      <th>Navigation active</th>\n      <th>Seat Heating on</th>\n      <th>Audio muted</th>\n    </tr>\n  </thead>\n  <tbody>\n    <tr>\n      <th>0</th>\n      <td>5J8TB4H38Fl002262</td>\n      <td>0.6</td>\n      <td>0.53</td>\n      <td>0.6</td>\n    </tr>\n  </tbody>\n</table>\n</div>"
     },
     "metadata": {},
     "execution_count": 118
    }
   ],
   "source": [
    "aggregate_ratio(df, 'VIN')"
   ]
  },
  {
   "cell_type": "code",
   "execution_count": 28,
   "metadata": {},
   "outputs": [
    {
     "output_type": "stream",
     "name": "stdout",
     "text": [
      "5J8TB4H38Fl002262\n"
     ]
    }
   ],
   "source": [
    "for item in df['VIN'].unique():\n",
    "    print(item)"
   ]
  },
  {
   "cell_type": "code",
   "execution_count": 18,
   "metadata": {},
   "outputs": [
    {
     "output_type": "execute_result",
     "data": {
      "text/plain": [
       "                   Navigation active  Seat Heating on  Audio muted\n",
       "VIN                                                               \n",
       "5J8TB4H38Fl002262                0.6         0.533333     1.433333"
      ],
      "text/html": "<div>\n<style scoped>\n    .dataframe tbody tr th:only-of-type {\n        vertical-align: middle;\n    }\n\n    .dataframe tbody tr th {\n        vertical-align: top;\n    }\n\n    .dataframe thead th {\n        text-align: right;\n    }\n</style>\n<table border=\"1\" class=\"dataframe\">\n  <thead>\n    <tr style=\"text-align: right;\">\n      <th></th>\n      <th>Navigation active</th>\n      <th>Seat Heating on</th>\n      <th>Audio muted</th>\n    </tr>\n    <tr>\n      <th>VIN</th>\n      <th></th>\n      <th></th>\n      <th></th>\n    </tr>\n  </thead>\n  <tbody>\n    <tr>\n      <th>5J8TB4H38Fl002262</th>\n      <td>0.6</td>\n      <td>0.533333</td>\n      <td>1.433333</td>\n    </tr>\n  </tbody>\n</table>\n</div>"
     },
     "metadata": {},
     "execution_count": 18
    }
   ],
   "source": [
    "df.groupby(['VIN']).mean()"
   ]
  },
  {
   "cell_type": "code",
   "execution_count": 19,
   "metadata": {},
   "outputs": [
    {
     "output_type": "execute_result",
     "data": {
      "text/plain": [
       "                   Navigation active  Seat Heating on  Audio muted\n",
       "VIN                                                               \n",
       "5J8TB4H38Fl002262                 30               30           30"
      ],
      "text/html": "<div>\n<style scoped>\n    .dataframe tbody tr th:only-of-type {\n        vertical-align: middle;\n    }\n\n    .dataframe tbody tr th {\n        vertical-align: top;\n    }\n\n    .dataframe thead th {\n        text-align: right;\n    }\n</style>\n<table border=\"1\" class=\"dataframe\">\n  <thead>\n    <tr style=\"text-align: right;\">\n      <th></th>\n      <th>Navigation active</th>\n      <th>Seat Heating on</th>\n      <th>Audio muted</th>\n    </tr>\n    <tr>\n      <th>VIN</th>\n      <th></th>\n      <th></th>\n      <th></th>\n    </tr>\n  </thead>\n  <tbody>\n    <tr>\n      <th>5J8TB4H38Fl002262</th>\n      <td>30</td>\n      <td>30</td>\n      <td>30</td>\n    </tr>\n  </tbody>\n</table>\n</div>"
     },
     "metadata": {},
     "execution_count": 19
    }
   ],
   "source": [
    "df.groupby(['VIN']).count()"
   ]
  },
  {
   "cell_type": "code",
   "execution_count": 20,
   "metadata": {},
   "outputs": [
    {
     "output_type": "execute_result",
     "data": {
      "text/plain": [
       "                   Navigation active  Seat Heating on  Audio muted\n",
       "VIN                                                               \n",
       "5J8TB4H38Fl002262                 18               16           43"
      ],
      "text/html": "<div>\n<style scoped>\n    .dataframe tbody tr th:only-of-type {\n        vertical-align: middle;\n    }\n\n    .dataframe tbody tr th {\n        vertical-align: top;\n    }\n\n    .dataframe thead th {\n        text-align: right;\n    }\n</style>\n<table border=\"1\" class=\"dataframe\">\n  <thead>\n    <tr style=\"text-align: right;\">\n      <th></th>\n      <th>Navigation active</th>\n      <th>Seat Heating on</th>\n      <th>Audio muted</th>\n    </tr>\n    <tr>\n      <th>VIN</th>\n      <th></th>\n      <th></th>\n      <th></th>\n    </tr>\n  </thead>\n  <tbody>\n    <tr>\n      <th>5J8TB4H38Fl002262</th>\n      <td>18</td>\n      <td>16</td>\n      <td>43</td>\n    </tr>\n  </tbody>\n</table>\n</div>"
     },
     "metadata": {},
     "execution_count": 20
    }
   ],
   "source": [
    "df.groupby(['VIN']).sum()"
   ]
  },
  {
   "cell_type": "code",
   "execution_count": 24,
   "metadata": {},
   "outputs": [
    {
     "output_type": "execute_result",
     "data": {
      "text/plain": [
       "                   Navigation active  Seat Heating on  Audio muted\n",
       "VIN                                                               \n",
       "5J8TB4H38Fl002262                 18               16           43"
      ],
      "text/html": "<div>\n<style scoped>\n    .dataframe tbody tr th:only-of-type {\n        vertical-align: middle;\n    }\n\n    .dataframe tbody tr th {\n        vertical-align: top;\n    }\n\n    .dataframe thead th {\n        text-align: right;\n    }\n</style>\n<table border=\"1\" class=\"dataframe\">\n  <thead>\n    <tr style=\"text-align: right;\">\n      <th></th>\n      <th>Navigation active</th>\n      <th>Seat Heating on</th>\n      <th>Audio muted</th>\n    </tr>\n    <tr>\n      <th>VIN</th>\n      <th></th>\n      <th></th>\n      <th></th>\n    </tr>\n  </thead>\n  <tbody>\n    <tr>\n      <th>5J8TB4H38Fl002262</th>\n      <td>18</td>\n      <td>16</td>\n      <td>43</td>\n    </tr>\n  </tbody>\n</table>\n</div>"
     },
     "metadata": {},
     "execution_count": 24
    }
   ],
   "source": [
    "aggregate_sum(df, 'VIN')"
   ]
  },
  {
   "cell_type": "code",
   "execution_count": 58,
   "metadata": {},
   "outputs": [
    {
     "output_type": "stream",
     "name": "stdout",
     "text": [
      "[1, 2, 3, [4]]\n"
     ]
    }
   ],
   "source": [
    "list = [1,2,3]\n",
    "\n",
    "list.append([4])\n",
    "\n",
    "print(list)"
   ]
  },
  {
   "cell_type": "code",
   "execution_count": 60,
   "metadata": {},
   "outputs": [
    {
     "output_type": "execute_result",
     "data": {
      "text/plain": [
       "0.667"
      ]
     },
     "metadata": {},
     "execution_count": 60
    }
   ],
   "source": [
    "round((2/3), 3)"
   ]
  },
  {
   "cell_type": "code",
   "execution_count": 76,
   "metadata": {},
   "outputs": [
    {
     "output_type": "execute_result",
     "data": {
      "text/plain": [
       "Index(['VIN', 'Navigation active', 'Seat Heating on', 'Audio muted'], dtype='object')"
      ]
     },
     "metadata": {},
     "execution_count": 76
    }
   ],
   "source": [
    "df.columns"
   ]
  },
  {
   "cell_type": "code",
   "execution_count": 96,
   "metadata": {},
   "outputs": [
    {
     "output_type": "stream",
     "name": "stdout",
     "text": [
      "VIN\nNavigation active\nSeat Heating on\nAudio muted\n"
     ]
    }
   ],
   "source": [
    "for columns in df.columns:\n",
    "    print(columns)"
   ]
  },
  {
   "cell_type": "code",
   "execution_count": null,
   "metadata": {},
   "outputs": [],
   "source": []
  }
 ]
}