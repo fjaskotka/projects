{
 "metadata": {
  "language_info": {
   "codemirror_mode": {
    "name": "ipython",
    "version": 3
   },
   "file_extension": ".py",
   "mimetype": "text/x-python",
   "name": "python",
   "nbconvert_exporter": "python",
   "pygments_lexer": "ipython3",
   "version": "3.7.10"
  },
  "orig_nbformat": 4,
  "kernelspec": {
   "name": "python3",
   "display_name": "Python 3.7.10 64-bit"
  },
  "interpreter": {
   "hash": "4cd7ab41f5fca4b9b44701077e38c5ffd31fe66a6cab21e0214b68d958d0e462"
  }
 },
 "nbformat": 4,
 "nbformat_minor": 2,
 "cells": [
  {
   "source": [
    "# Data Engineering with Pyspark"
   ],
   "cell_type": "markdown",
   "metadata": {}
  },
  {
   "source": [
    "## Loading the data"
   ],
   "cell_type": "markdown",
   "metadata": {}
  },
  {
   "cell_type": "code",
   "execution_count": 15,
   "metadata": {},
   "outputs": [],
   "source": [
    "#imorting necessary packages\n",
    "from pyspark.sql import SparkSession\n",
    "from pyspark.sql import functions as F\n",
    "from pyspark.sql.types import StructType, StructField\n",
    "from pyspark.sql.types import IntegerType, StringType"
   ]
  },
  {
   "cell_type": "code",
   "execution_count": 16,
   "metadata": {},
   "outputs": [],
   "source": [
    "spark = SparkSession.builder.getOrCreate()"
   ]
  },
  {
   "cell_type": "code",
   "execution_count": 17,
   "metadata": {},
   "outputs": [],
   "source": [
    "schema = StructType([\n",
    "    StructField('VIN', StringType()),\n",
    "    StructField('Navigation active', IntegerType()),\n",
    "    StructField('Seat Heating on', IntegerType()),\n",
    "    StructField('Audio muted', IntegerType())\n",
    "])\n",
    "\n",
    "df = spark.read.csv(\"Events_per_drive.csv\", header = True, schema = schema)"
   ]
  },
  {
   "cell_type": "code",
   "execution_count": 18,
   "metadata": {},
   "outputs": [
    {
     "output_type": "stream",
     "name": "stdout",
     "text": [
      "+-----------------+-----------------+---------------+-----------+\n|              VIN|Navigation active|Seat Heating on|Audio muted|\n+-----------------+-----------------+---------------+-----------+\n|5J8TB4H38Fl002262|                1|              1|          0|\n|5J8TB4H38Fl002262|                1|              0|          0|\n|5J8TB4H38Fl002262|                1|              0|          1|\n|5J8TB4H38Fl002262|                1|              0|          0|\n|5J8TB4H38Fl002262|                0|              1|          1|\n|5J8TB4H38Fl002262|                0|              0|          3|\n|5J8TB4H38Fl002262|                0|              0|          4|\n|5J8TB4H38Fl002262|                0|              1|          2|\n|5J8TB4H38Fl002262|                1|              1|          1|\n|5J8TB4H38Fl002262|                1|              0|          0|\n|5J8TB4H38Fl002262|                1|              0|          0|\n|5J8TB4H38Fl002262|                0|              0|          4|\n|5J8TB4H38Fl002262|                1|              0|          2|\n|5J8TB4H38Fl002262|                0|              1|          3|\n|5J8TB4H38Fl002262|                1|              0|          1|\n|5J8TB4H38Fl002262|                0|              1|          0|\n|5J8TB4H38Fl002262|                0|              0|          0|\n|5J8TB4H38Fl002262|                0|              1|          0|\n|5J8TB4H38Fl002262|                1|              1|          0|\n|5J8TB4H38Fl002262|                0|              1|          0|\n+-----------------+-----------------+---------------+-----------+\nonly showing top 20 rows\n\n"
     ]
    }
   ],
   "source": [
    "df.show()"
   ]
  },
  {
   "cell_type": "code",
   "execution_count": 19,
   "metadata": {},
   "outputs": [
    {
     "output_type": "execute_result",
     "data": {
      "text/plain": [
       "[('VIN', 'string'),\n",
       " ('Navigation active', 'int'),\n",
       " ('Seat Heating on', 'int'),\n",
       " ('Audio muted', 'int')]"
      ]
     },
     "metadata": {},
     "execution_count": 19
    }
   ],
   "source": [
    "df.dtypes"
   ]
  },
  {
   "cell_type": "code",
   "execution_count": null,
   "metadata": {},
   "outputs": [],
   "source": []
  }
 ]
}