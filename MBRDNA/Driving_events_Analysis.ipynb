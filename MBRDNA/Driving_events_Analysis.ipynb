{
 "metadata": {
  "language_info": {
   "codemirror_mode": {
    "name": "ipython",
    "version": 3
   },
   "file_extension": ".py",
   "mimetype": "text/x-python",
   "name": "python",
   "nbconvert_exporter": "python",
   "pygments_lexer": "ipython3",
   "version": "3.7.10"
  },
  "orig_nbformat": 4,
  "kernelspec": {
   "name": "python3",
   "display_name": "Python 3.7.10 64-bit"
  },
  "interpreter": {
   "hash": "4cd7ab41f5fca4b9b44701077e38c5ffd31fe66a6cab21e0214b68d958d0e462"
  }
 },
 "nbformat": 4,
 "nbformat_minor": 2,
 "cells": [
  {
   "source": [
    "# Analysis of Driving Events and generation of Aggregation Functions in Pandas"
   ],
   "cell_type": "markdown",
   "metadata": {}
  },
  {
   "source": [
    "## Loading Data"
   ],
   "cell_type": "markdown",
   "metadata": {}
  },
  {
   "cell_type": "code",
   "execution_count": 37,
   "metadata": {},
   "outputs": [],
   "source": [
    "#importing necessary packages\n",
    "import numpy as np\n",
    "import pandas as pd"
   ]
  },
  {
   "cell_type": "code",
   "execution_count": 38,
   "metadata": {},
   "outputs": [],
   "source": [
    "df = pd.read_csv('Driving_events.csv')"
   ]
  },
  {
   "cell_type": "code",
   "execution_count": 63,
   "metadata": {},
   "outputs": [
    {
     "output_type": "execute_result",
     "data": {
      "text/plain": [
       "    Time          Event\n",
       "0      0    start_drive\n",
       "1      1            NaN\n",
       "2      2            NaN\n",
       "3      3            NaN\n",
       "4      4            NaN\n",
       "5      5       radio_on\n",
       "6      6            NaN\n",
       "7      7            NaN\n",
       "8      8            NaN\n",
       "9      9            NaN\n",
       "10    10    window_open\n",
       "11    11            NaN\n",
       "12    12            NaN\n",
       "13    13            NaN\n",
       "14    14            NaN\n",
       "15    15            NaN\n",
       "16    16            NaN\n",
       "17    17            NaN\n",
       "18    18            NaN\n",
       "19    19            NaN\n",
       "20    20  window_closed\n",
       "21    21            NaN\n",
       "22    22            NaN\n",
       "23    23            NaN\n",
       "24    24            NaN\n",
       "25    25            NaN\n",
       "26    26      radio_off\n",
       "27    27         aux_on\n",
       "28    28            NaN\n",
       "29    29            NaN"
      ],
      "text/html": "<div>\n<style scoped>\n    .dataframe tbody tr th:only-of-type {\n        vertical-align: middle;\n    }\n\n    .dataframe tbody tr th {\n        vertical-align: top;\n    }\n\n    .dataframe thead th {\n        text-align: right;\n    }\n</style>\n<table border=\"1\" class=\"dataframe\">\n  <thead>\n    <tr style=\"text-align: right;\">\n      <th></th>\n      <th>Time</th>\n      <th>Event</th>\n    </tr>\n  </thead>\n  <tbody>\n    <tr>\n      <th>0</th>\n      <td>0</td>\n      <td>start_drive</td>\n    </tr>\n    <tr>\n      <th>1</th>\n      <td>1</td>\n      <td>NaN</td>\n    </tr>\n    <tr>\n      <th>2</th>\n      <td>2</td>\n      <td>NaN</td>\n    </tr>\n    <tr>\n      <th>3</th>\n      <td>3</td>\n      <td>NaN</td>\n    </tr>\n    <tr>\n      <th>4</th>\n      <td>4</td>\n      <td>NaN</td>\n    </tr>\n    <tr>\n      <th>5</th>\n      <td>5</td>\n      <td>radio_on</td>\n    </tr>\n    <tr>\n      <th>6</th>\n      <td>6</td>\n      <td>NaN</td>\n    </tr>\n    <tr>\n      <th>7</th>\n      <td>7</td>\n      <td>NaN</td>\n    </tr>\n    <tr>\n      <th>8</th>\n      <td>8</td>\n      <td>NaN</td>\n    </tr>\n    <tr>\n      <th>9</th>\n      <td>9</td>\n      <td>NaN</td>\n    </tr>\n    <tr>\n      <th>10</th>\n      <td>10</td>\n      <td>window_open</td>\n    </tr>\n    <tr>\n      <th>11</th>\n      <td>11</td>\n      <td>NaN</td>\n    </tr>\n    <tr>\n      <th>12</th>\n      <td>12</td>\n      <td>NaN</td>\n    </tr>\n    <tr>\n      <th>13</th>\n      <td>13</td>\n      <td>NaN</td>\n    </tr>\n    <tr>\n      <th>14</th>\n      <td>14</td>\n      <td>NaN</td>\n    </tr>\n    <tr>\n      <th>15</th>\n      <td>15</td>\n      <td>NaN</td>\n    </tr>\n    <tr>\n      <th>16</th>\n      <td>16</td>\n      <td>NaN</td>\n    </tr>\n    <tr>\n      <th>17</th>\n      <td>17</td>\n      <td>NaN</td>\n    </tr>\n    <tr>\n      <th>18</th>\n      <td>18</td>\n      <td>NaN</td>\n    </tr>\n    <tr>\n      <th>19</th>\n      <td>19</td>\n      <td>NaN</td>\n    </tr>\n    <tr>\n      <th>20</th>\n      <td>20</td>\n      <td>window_closed</td>\n    </tr>\n    <tr>\n      <th>21</th>\n      <td>21</td>\n      <td>NaN</td>\n    </tr>\n    <tr>\n      <th>22</th>\n      <td>22</td>\n      <td>NaN</td>\n    </tr>\n    <tr>\n      <th>23</th>\n      <td>23</td>\n      <td>NaN</td>\n    </tr>\n    <tr>\n      <th>24</th>\n      <td>24</td>\n      <td>NaN</td>\n    </tr>\n    <tr>\n      <th>25</th>\n      <td>25</td>\n      <td>NaN</td>\n    </tr>\n    <tr>\n      <th>26</th>\n      <td>26</td>\n      <td>radio_off</td>\n    </tr>\n    <tr>\n      <th>27</th>\n      <td>27</td>\n      <td>aux_on</td>\n    </tr>\n    <tr>\n      <th>28</th>\n      <td>28</td>\n      <td>NaN</td>\n    </tr>\n    <tr>\n      <th>29</th>\n      <td>29</td>\n      <td>NaN</td>\n    </tr>\n  </tbody>\n</table>\n</div>"
     },
     "metadata": {},
     "execution_count": 63
    }
   ],
   "source": [
    "df.head(30)"
   ]
  },
  {
   "source": [
    "### Calculation of how many percent of the trip the radio was turned on"
   ],
   "cell_type": "markdown",
   "metadata": {}
  },
  {
   "cell_type": "code",
   "execution_count": 48,
   "metadata": {},
   "outputs": [],
   "source": [
    "df.loc[25, 'Event'] = np.nan"
   ]
  },
  {
   "cell_type": "code",
   "execution_count": 67,
   "metadata": {},
   "outputs": [],
   "source": [
    "def total_time(df, event_column, start_event, end_event):\n",
    "\n",
    "    #calculating time of first occurence\n",
    "    start_times = []\n",
    "    start_time = df.loc[:,'Time'][df.loc[:, event_column] == start_event]\n",
    "    start_times.extend(start_time.to_list())\n",
    "\n",
    "\n",
    "    #calculating time of first opposite occurence\n",
    "    end_times = []\n",
    "    end_time = df.loc[:,'Time'][df.loc[:, event_column] == end_event]\n",
    "    end_times.extend(end_time.to_list())\n",
    "\n",
    "\n",
    "    time_total = 0\n",
    "\n",
    "    for n in range(0,len(start_times)):\n",
    "\n",
    "        #calculating driving length\n",
    "        time = end_times[n] - start_times[n]\n",
    "        time_total += time\n",
    "\n",
    "    return time_total"
   ]
  },
  {
   "cell_type": "code",
   "execution_count": 68,
   "metadata": {},
   "outputs": [
    {
     "output_type": "execute_result",
     "data": {
      "text/plain": [
       "10"
      ]
     },
     "metadata": {},
     "execution_count": 68
    }
   ],
   "source": [
    "total_time(df, 'Event', 'window_open', 'window_closed')"
   ]
  },
  {
   "source": [
    "# Analysis of Driving Events and generation of Aggregation Functions in PySpark"
   ],
   "cell_type": "markdown",
   "metadata": {}
  },
  {
   "source": [
    "## Loading Data"
   ],
   "cell_type": "markdown",
   "metadata": {}
  },
  {
   "cell_type": "code",
   "execution_count": 180,
   "metadata": {},
   "outputs": [],
   "source": [
    "#importing necessary packages\n",
    "from pyspark.sql import SparkSession\n",
    "from pyspark.sql import functions as F\n",
    "from pyspark.sql.types import StructType, StructField\n",
    "from pyspark.sql.types import StringType, IntegerType, DoubleType, DecimalType\n",
    "from decimal import Decimal\n",
    "from pyspark.sql.window import Window\n",
    "from pyspark.sql.functions import lit"
   ]
  },
  {
   "cell_type": "code",
   "execution_count": 181,
   "metadata": {},
   "outputs": [],
   "source": [
    "spark = SparkSession.builder.getOrCreate()"
   ]
  },
  {
   "cell_type": "code",
   "execution_count": 182,
   "metadata": {},
   "outputs": [],
   "source": [
    "schema = StructType([\n",
    "    StructField('Time', IntegerType()),\n",
    "    StructField('Event', StringType()),\n",
    "])\n",
    "\n",
    "df = spark.read.csv('Driving_events.csv', header = True, schema = schema)"
   ]
  },
  {
   "cell_type": "code",
   "execution_count": 183,
   "metadata": {},
   "outputs": [
    {
     "output_type": "stream",
     "name": "stdout",
     "text": [
      "+----+-----------+\n|Time|      Event|\n+----+-----------+\n|   0|start_drive|\n|   1|       null|\n|   2|       null|\n|   3|       null|\n|   4|       null|\n|   5|   radio_on|\n|   6|       null|\n|   7|       null|\n|   8|       null|\n|   9|       null|\n|  10|window_open|\n|  11|       null|\n|  12|       null|\n|  13|       null|\n|  14|       null|\n|  15|       null|\n|  16|       null|\n|  17|       null|\n|  18|       null|\n|  19|       null|\n+----+-----------+\nonly showing top 20 rows\n\n"
     ]
    }
   ],
   "source": [
    "df.show()"
   ]
  },
  {
   "cell_type": "code",
   "execution_count": 184,
   "metadata": {},
   "outputs": [],
   "source": [
    "df = df.withColumn('VIN', lit('5J8TB4H38Fl002262'))"
   ]
  },
  {
   "cell_type": "code",
   "execution_count": 185,
   "metadata": {},
   "outputs": [
    {
     "output_type": "stream",
     "name": "stdout",
     "text": [
      "+----+-----------+-----------------+\n|Time|      Event|              VIN|\n+----+-----------+-----------------+\n|   0|start_drive|5J8TB4H38Fl002262|\n|   1|       null|5J8TB4H38Fl002262|\n|   2|       null|5J8TB4H38Fl002262|\n|   3|       null|5J8TB4H38Fl002262|\n|   4|       null|5J8TB4H38Fl002262|\n|   5|   radio_on|5J8TB4H38Fl002262|\n|   6|       null|5J8TB4H38Fl002262|\n|   7|       null|5J8TB4H38Fl002262|\n|   8|       null|5J8TB4H38Fl002262|\n|   9|       null|5J8TB4H38Fl002262|\n|  10|window_open|5J8TB4H38Fl002262|\n|  11|       null|5J8TB4H38Fl002262|\n|  12|       null|5J8TB4H38Fl002262|\n|  13|       null|5J8TB4H38Fl002262|\n|  14|       null|5J8TB4H38Fl002262|\n|  15|       null|5J8TB4H38Fl002262|\n|  16|       null|5J8TB4H38Fl002262|\n|  17|       null|5J8TB4H38Fl002262|\n|  18|       null|5J8TB4H38Fl002262|\n|  19|       null|5J8TB4H38Fl002262|\n+----+-----------+-----------------+\nonly showing top 20 rows\n\n"
     ]
    }
   ],
   "source": [
    "df.show()"
   ]
  },
  {
   "source": [
    "### Calculating time between window events"
   ],
   "cell_type": "markdown",
   "metadata": {}
  },
  {
   "cell_type": "code",
   "execution_count": 186,
   "metadata": {},
   "outputs": [
    {
     "output_type": "stream",
     "name": "stdout",
     "text": [
      "+----+-------------+-----------------+\n|Time|        Event|              VIN|\n+----+-------------+-----------------+\n|  10|  window_open|5J8TB4H38Fl002262|\n|  20|window_closed|5J8TB4H38Fl002262|\n|  42|  window_open|5J8TB4H38Fl002262|\n|  50|window_closed|5J8TB4H38Fl002262|\n+----+-------------+-----------------+\n\n"
     ]
    }
   ],
   "source": [
    "#filtering for window events\n",
    "df_window = df.where(\"Event LIKE 'window%'\")\n",
    "#df_window = df.sql(\"SELECT * FROM df WHERE 'Event' Like 'window%\")\n",
    "df_window.show()"
   ]
  },
  {
   "cell_type": "code",
   "execution_count": 187,
   "metadata": {},
   "outputs": [
    {
     "output_type": "stream",
     "name": "stdout",
     "text": [
      "+----+-------------+-----------------+-------------------+--------+---------+\n|Time|        Event|              VIN|previous_event_time|timediff|time_open|\n+----+-------------+-----------------+-------------------+--------+---------+\n|  10|  window_open|5J8TB4H38Fl002262|               null|    null|        0|\n|  20|window_closed|5J8TB4H38Fl002262|                 10|      10|       10|\n|  42|  window_open|5J8TB4H38Fl002262|                 20|      22|        0|\n|  50|window_closed|5J8TB4H38Fl002262|                 42|       8|        8|\n+----+-------------+-----------------+-------------------+--------+---------+\n\n"
     ]
    }
   ],
   "source": [
    "#adding column with time_stamp of previous event\n",
    "df_window_lag = df_window.withColumn('previous_event_time', F.lag(df_window['time']).over(Window.partitionBy(\"VIN\").orderBy(\"time\")))\n",
    "\n",
    "#calculating time difference between events\n",
    "df_window_lag = df_window_lag.withColumn('timediff', (df_window_lag['time'] - df_window_lag['previous_event_time']))\n",
    "\n",
    "#eliminating time the window was closed\n",
    "df_window_lag = df_window_lag.withColumn('time_open', F.when(df_window_lag['Event'] == 'window_open', 0).otherwise(df_window_lag['timediff']))\n",
    "\n",
    "df_window_lag.show()"
   ]
  },
  {
   "cell_type": "code",
   "execution_count": 188,
   "metadata": {},
   "outputs": [
    {
     "output_type": "stream",
     "name": "stdout",
     "text": [
      "+-----------------+---------+------------------------+-------------+--------------+\n|              VIN|sum(Time)|sum(previous_event_time)|sum(timediff)|sum(time_open)|\n+-----------------+---------+------------------------+-------------+--------------+\n|5J8TB4H38Fl002262|      122|                      72|           40|            18|\n+-----------------+---------+------------------------+-------------+--------------+\n\n"
     ]
    }
   ],
   "source": [
    "df_window_lag.groupBy('VIN').sum().show()"
   ]
  },
  {
   "source": [
    "## Generating Total Time Calculation"
   ],
   "cell_type": "markdown",
   "metadata": {}
  },
  {
   "cell_type": "code",
   "execution_count": 194,
   "metadata": {},
   "outputs": [],
   "source": [
    "def event_info(df, category, activated):\n",
    "\n",
    "    #filtering for window events\n",
    "    df_filtered = df.filter(df.Event.startswith(category))\n",
    "\n",
    "    #adding column with time_stamp of previous event\n",
    "    df_filtered_lag = df_filtered.withColumn('previous_event_time', F.lag(df_filtered['time']).over(Window.partitionBy(\"VIN\").orderBy(\"time\")))\n",
    "\n",
    "    #calculating time difference between events\n",
    "    df_filtered_lag = df_filtered_lag.withColumn('timediff', (df_filtered_lag['time'] - df_filtered_lag['previous_event_time']))\n",
    "\n",
    "    #eliminating time the window was closed\n",
    "    df_filtered_lag = df_filtered_lag.withColumn('time_open', F.when(df_filtered_lag['Event'] == activated, 0).otherwise(df_filtered_lag['timediff']))\n",
    "\n",
    "\n",
    "    #placeholder list\n",
    "    placeholder_lst = []\n",
    "    \n",
    "    #calculating total time active\n",
    "    total_time_active = df_filtered_lag.select(F.sum('time_open')).collect()[0][0]\n",
    "    placeholder_lst.append(total_time_active)\n",
    "\n",
    "    #total time\n",
    "    total_time = df.select(F.max('Time')).collect()[0][0] - df.select(F.min('Time')).collect()[0][0]\n",
    "    placeholder_lst.append(total_time)\n",
    "\n",
    "    #relative time event active\n",
    "    relative_time = round((total_time_active / total_time), 2)\n",
    "    placeholder_lst.append(relative_time)\n",
    "\n",
    "    #assembling final information\n",
    "    schema1 = StructType([\n",
    "        StructField('Total Time Active', IntegerType(), True),\n",
    "        StructField('Total Time', IntegerType(), True),\n",
    "        StructField('Relative Time Active', DecimalType(), True)\n",
    "    ])\n",
    "\n",
    "    #Converting List to RDD\n",
    "    rdd = spark.sparkContext.parallelize(placeholder_lst)\n",
    "\n",
    "    #creating data frame\n",
    "    result = spark.createDataFrame(rdd, schema1)\n",
    "\n",
    "\n",
    "    return placeholder_lst"
   ]
  },
  {
   "cell_type": "code",
   "execution_count": 195,
   "metadata": {},
   "outputs": [],
   "source": [
    "df5 = event_info(df, 'window', 'window_open')"
   ]
  },
  {
   "cell_type": "code",
   "execution_count": 197,
   "metadata": {},
   "outputs": [
    {
     "output_type": "stream",
     "name": "stdout",
     "text": [
      "[18, 60, 0.3]\n"
     ]
    }
   ],
   "source": [
    "print(df5)"
   ]
  },
  {
   "cell_type": "code",
   "execution_count": 146,
   "metadata": {},
   "outputs": [],
   "source": [
    "total_time_active = df4.select(F.sum('time_open')).collect()[0][0]"
   ]
  },
  {
   "cell_type": "code",
   "execution_count": 147,
   "metadata": {},
   "outputs": [
    {
     "output_type": "stream",
     "name": "stdout",
     "text": [
      "18\n"
     ]
    }
   ],
   "source": [
    "print(total_time_active)"
   ]
  },
  {
   "cell_type": "code",
   "execution_count": 150,
   "metadata": {},
   "outputs": [],
   "source": [
    "b = df.select(F.min('Time')).collect()[0][0]"
   ]
  },
  {
   "cell_type": "code",
   "execution_count": 151,
   "metadata": {},
   "outputs": [
    {
     "output_type": "stream",
     "name": "stdout",
     "text": [
      "0\n"
     ]
    }
   ],
   "source": [
    "print(b)"
   ]
  },
  {
   "cell_type": "code",
   "execution_count": null,
   "metadata": {},
   "outputs": [],
   "source": []
  }
 ]
}