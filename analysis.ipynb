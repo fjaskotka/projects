{
 "metadata": {
  "language_info": {
   "codemirror_mode": {
    "name": "ipython",
    "version": 3
   },
   "file_extension": ".py",
   "mimetype": "text/x-python",
   "name": "python",
   "nbconvert_exporter": "python",
   "pygments_lexer": "ipython3",
   "version": "3.7.10"
  },
  "orig_nbformat": 2,
  "kernelspec": {
   "name": "python3710jvsc74a57bd04cd7ab41f5fca4b9b44701077e38c5ffd31fe66a6cab21e0214b68d958d0e462",
   "display_name": "Python 3.7.10 64-bit ('local')"
  },
  "metadata": {
   "interpreter": {
    "hash": "4cd7ab41f5fca4b9b44701077e38c5ffd31fe66a6cab21e0214b68d958d0e462"
   }
  }
 },
 "nbformat": 4,
 "nbformat_minor": 2,
 "cells": [
  {
   "cell_type": "code",
   "execution_count": 2,
   "metadata": {},
   "outputs": [],
   "source": [
    "from pyspark.sql import SparkSession"
   ]
  },
  {
   "cell_type": "code",
   "execution_count": 3,
   "metadata": {},
   "outputs": [],
   "source": [
    "spark = SparkSession.builder.getOrCreate()"
   ]
  },
  {
   "cell_type": "code",
   "execution_count": 4,
   "metadata": {},
   "outputs": [
    {
     "output_type": "execute_result",
     "data": {
      "text/plain": [
       "<pyspark.sql.session.SparkSession at 0x7f6285d53090>"
      ],
      "text/html": "\n            <div>\n                <p><b>SparkSession - in-memory</b></p>\n                \n        <div>\n            <p><b>SparkContext</b></p>\n\n            <p><a href=\"http://c15191254aa4:4040\">Spark UI</a></p>\n\n            <dl>\n              <dt>Version</dt>\n                <dd><code>v3.1.2</code></dd>\n              <dt>Master</dt>\n                <dd><code>local[*]</code></dd>\n              <dt>AppName</dt>\n                <dd><code>pyspark-shell</code></dd>\n            </dl>\n        </div>\n        \n            </div>\n        "
     },
     "metadata": {},
     "execution_count": 4
    }
   ],
   "source": [
    "spark"
   ]
  },
  {
   "cell_type": "code",
   "execution_count": 7,
   "metadata": {},
   "outputs": [],
   "source": [
    "df = spark.read.csv(\"Cclass/unclean cclass.csv\", header = True)"
   ]
  },
  {
   "cell_type": "code",
   "execution_count": 8,
   "metadata": {},
   "outputs": [
    {
     "output_type": "stream",
     "name": "stdout",
     "text": [
      "+--------+----+--------+------------+-------+---------+-----------+--------+----------+------------+------------+\n|   model|year|   price|transmission|mileage|fuel type|engine size|mileage2|fuel type2|engine size2|   reference|\n+--------+----+--------+------------+-------+---------+-----------+--------+----------+------------+------------+\n| C Class|2020| £30,495|   Automatic|   null|   Diesel|          2|   1,200|      null|        null|/ad/25017331|\n| C Class|2020| £29,989|   Automatic|   null|   Petrol|        1.5|   1,000|      null|        null|/ad/25043746|\n| C Class|2020| £37,899|   Automatic|   null|   Diesel|          2|     500|      null|        null|/ad/25142894|\n| C Class|2019| £30,399|   Automatic|   null|   Diesel|          2|   5,000|      null|        null|/ad/24942816|\n| C Class|2019| £29,899|   Automatic|   null|   Diesel|          2|   4,500|      null|        null|/ad/24913660|\n| C Class|2020| £30,999|   Automatic|   null|   Diesel|          2|   1,000|      null|        null|/ad/25059312|\n| C Class|2020| £35,999|   Automatic|   null|   Diesel|          2|     500|      null|        null|/ad/25418851|\n| C Class|2019| £37,990|   Automatic|   null|   Petrol|          3|   1,412|      null|        null|/ad/25449314|\n| C Class|2019| £28,990|   Automatic|   null|   Diesel|          2|   3,569|      null|        null|/ad/25046820|\n| C Class|2019| £28,990|   Automatic|   null|   Diesel|          2|   3,635|      null|        null|/ad/25046821|\n| C Class|2013|  £9,995|   Automatic| 44,900|       29|       £160|    46.3|    Petrol|         1.6|/ad/25128085|\n| C Class|2012|  £6,995|   Automatic| 88,200|       34|       £125|    58.9|    Diesel|         2.1|/ad/23763610|\n| C Class|2012|  £7,495|   Automatic|115,000|       37|       £145|    54.3|    Diesel|         2.1|/ad/24626603|\n| C Class|2011|  £8,995|   Automatic| 69,250|       29|       £150|    53.3|    Diesel|         2.1|/ad/25462537|\n| C Class|2015| £14,995|   Automatic| 49,850|       31|        £30|    62.8|    Diesel|         2.1|/ad/25479169|\n| C Class|2013|  £8,595|   Automatic| 82,685|       32|        £30|    64.2|    Diesel|        2143|/ad/25450549|\n| C Class|2016| £19,250|   Semi-Auto| 32,506|       38|       £125|    60.1|    Diesel|         2.1|/ad/25405174|\n| C Class|2017| £23,500|   Semi-Auto| 17,000|       33|       £145|    67.3|    Diesel|         2.1|/ad/25344580|\n| C Class|2018| £24,995|   Semi-Auto| 17,744|      n/a|       £150|    64.2|    Diesel|           2|/ad/25481454|\n| C Class|2016| £29,995|   Semi-Auto| 64,291|      n/a|       £305|    34.5|    Petrol|           4|/ad/25479287|\n+--------+----+--------+------------+-------+---------+-----------+--------+----------+------------+------------+\nonly showing top 20 rows\n\n"
     ]
    }
   ],
   "source": [
    "df.show()"
   ]
  },
  {
   "cell_type": "code",
   "execution_count": 9,
   "metadata": {},
   "outputs": [
    {
     "output_type": "error",
     "ename": "TypeError",
     "evalue": "drop() got an unexpected keyword argument 'axis'",
     "traceback": [
      "\u001b[0;31m---------------------------------------------------------------------------\u001b[0m",
      "\u001b[0;31mTypeError\u001b[0m                                 Traceback (most recent call last)",
      "\u001b[0;32m<ipython-input-9-cb7b82db813e>\u001b[0m in \u001b[0;36m<module>\u001b[0;34m\u001b[0m\n\u001b[0;32m----> 1\u001b[0;31m \u001b[0mdf\u001b[0m\u001b[0;34m.\u001b[0m\u001b[0mdrop\u001b[0m\u001b[0;34m(\u001b[0m\u001b[0;34m\"model\"\u001b[0m\u001b[0;34m,\u001b[0m \u001b[0maxis\u001b[0m \u001b[0;34m=\u001b[0m \u001b[0;36m1\u001b[0m\u001b[0;34m)\u001b[0m\u001b[0;34m\u001b[0m\u001b[0;34m\u001b[0m\u001b[0m\n\u001b[0m",
      "\u001b[0;31mTypeError\u001b[0m: drop() got an unexpected keyword argument 'axis'"
     ]
    }
   ],
   "source": [
    "df.drop(\"model\", axis = 1)"
   ]
  },
  {
   "cell_type": "code",
   "execution_count": null,
   "metadata": {},
   "outputs": [],
   "source": []
  }
 ]
}